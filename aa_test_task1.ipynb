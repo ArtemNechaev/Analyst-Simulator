{
 "cells": [
  {
   "cell_type": "code",
   "execution_count": 1,
   "id": "8258620c-a9cf-49ad-ac20-781b4cc0ab65",
   "metadata": {},
   "outputs": [],
   "source": [
    "import numpy as np\n",
    "from scipy import stats\n",
    "import matplotlib.pyplot as plt\n",
    "import seaborn as sns\n",
    "import pandahouse\n",
    "\n",
    "from read_db.read_clickhouse import connection\n",
    "\n"
   ]
  },
  {
   "cell_type": "code",
   "execution_count": 2,
   "id": "260ccb9e-ced5-40c4-9b9c-d862983316d3",
   "metadata": {},
   "outputs": [
    {
     "data": {
      "image/png": "[encoded data removed]",
      "text/plain": [
       "<Figure size 1080x576 with 1 Axes>"
      ]
     },
     "metadata": {
      "needs_background": "light"
     },
     "output_type": "display_data"
    }
   ],
   "source": [
    "#читаем данные из бд\n",
    "q = \"\"\"SELECT \n",
    "        exp_group, user_id,\n",
    "        sum(action='like')/sum(action='view') ctr\n",
    "        \n",
    "       FROM {db}.feed_actions \n",
    "       where toDate(time) between '2022-10-26' and '2022-11-01' \n",
    "       and exp_group in (2,3) \n",
    "       group by exp_group, user_id\n",
    "\n",
    "       \"\"\"\n",
    "\n",
    "df = pandahouse.read_clickhouse(q, connection=connection)\n",
    "\n",
    "\n",
    "# посмотрим на распредление CTR по группам\n",
    "fig, ax = plt.subplots(figsize=(15,8))\n",
    "sns.histplot(x='ctr', data=df, hue='exp_group', ax=ax)\n",
    "plt.show()"
   ]
  },
  {
   "cell_type": "markdown",
   "id": "134241b4-9cbb-45f3-a480-f50c11cc8a27",
   "metadata": {
    "tags": []
   },
   "source": [
    "# AA test"
   ]
  },
  {
   "cell_type": "code",
   "execution_count": 3,
   "id": "54bee03f-c2e4-41a0-ab88-8eeb340770dd",
   "metadata": {},
   "outputs": [
    {
     "name": "stdout",
     "output_type": "stream",
     "text": [
      "Статистические значимые различия наблюдаются в 5.12 % случаев\n"
     ]
    },
    {
     "data": {
      "image/png": "[encoded data removed]",
      "text/plain": [
       "<Figure size 432x288 with 1 Axes>"
      ]
     },
     "metadata": {
      "needs_background": "light"
     },
     "output_type": "display_data"
    }
   ],
   "source": [
    "sample_size = 500\n",
    "num_tests = 10000\n",
    "\n",
    "res = []\n",
    "for _ in range(num_tests):\n",
    "    g1 = np.random.choice(df.query(\"exp_group==2\").ctr.values, sample_size)\n",
    "    g2 = np.random.choice(df.query(\"exp_group==3\").ctr.values, sample_size)\n",
    "\n",
    "    res.append(stats.ttest_ind(g1,g2).pvalue)\n",
    "res = np.array(res)\n",
    "\n",
    "\n",
    "print('Статистические значимые различия наблюдаются в', len(res[res<=0.05]) * 100/len(res), '% случаев' )\n",
    "plt.hist(res)\n",
    "plt.show()\n",
    "    "
   ]
  },
  {
   "cell_type": "markdown",
   "id": "c08787f7-04bc-4b5e-99fc-fb278807f034",
   "metadata": {
    "tags": []
   },
   "source": [
    "# Вывод\n",
    "Система сплитования работает корректно.\n",
    "\n",
    "Доля случаев со статистически значимыми различиями близка к заданному $\\alpha = 0.05$ \n",
    "\n",
    "При увеличении числа повторений доля случаев будет стремится к $\\alpha$"
   ]
  }
 ],
 "metadata": {
  "kernelspec": {
   "display_name": "Python 3 (ipykernel)",
   "language": "python",
   "name": "python3"
  },
  "language_info": {
   "codemirror_mode": {
    "name": "ipython",
    "version": 3
   },
   "file_extension": ".py",
   "mimetype": "text/x-python",
   "name": "python",
   "nbconvert_exporter": "python",
   "pygments_lexer": "ipython3",
   "version": "3.8.10"
  }
 },
 "nbformat": 4,
 "nbformat_minor": 5
}
